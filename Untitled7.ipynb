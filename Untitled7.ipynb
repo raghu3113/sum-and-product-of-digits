{
 "cells": [
  {
   "cell_type": "code",
   "execution_count": 2,
   "metadata": {},
   "outputs": [
    {
     "name": "stdout",
     "output_type": "stream",
     "text": [
      "enter any number:456\n",
      "product of digit: 120\n"
     ]
    }
   ],
   "source": [
    "def prod(m):\n",
    "    if m<10:\n",
    "        return m\n",
    "    return(m%10)*prod(int(m/10))\n",
    "m=int(input(\"enter any number:\"))\n",
    "print(\"product of digit:\",prod(m))"
   ]
  },
  {
   "cell_type": "code",
   "execution_count": null,
   "metadata": {},
   "outputs": [],
   "source": []
  }
 ],
 "metadata": {
  "kernelspec": {
   "display_name": "Python 3",
   "language": "python",
   "name": "python3"
  },
  "language_info": {
   "codemirror_mode": {
    "name": "ipython",
    "version": 3
   },
   "file_extension": ".py",
   "mimetype": "text/x-python",
   "name": "python",
   "nbconvert_exporter": "python",
   "pygments_lexer": "ipython3",
   "version": "3.7.6"
  }
 },
 "nbformat": 4,
 "nbformat_minor": 4
}
